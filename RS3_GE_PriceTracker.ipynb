{
 "cells": [
  {
   "cell_type": "code",
   "execution_count": 33,
   "id": "99ed0632-8af0-4a30-ba0a-1ce5f9c83004",
   "metadata": {},
   "outputs": [],
   "source": [
    "# Want a program that will access RS3 wiki and collect GE price\n",
    "# Using Beautiful Soup Library\n",
    "\n",
    "from bs4 import BeautifulSoup\n",
    "import requests\n",
    "import matplotlib.pyplot as plt\n",
    "import numpy as np\n",
    "import pandas as pd\n",
    "import json"
   ]
  },
  {
   "cell_type": "code",
   "execution_count": 13,
   "id": "c3bc59eb-a657-47cc-bc5b-b25be77fc529",
   "metadata": {},
   "outputs": [],
   "source": [
    "product = 11716"
   ]
  },
  {
   "cell_type": "code",
   "execution_count": 82,
   "id": "15558e88-38eb-405d-b0db-224592df0efd",
   "metadata": {},
   "outputs": [],
   "source": [
    "response = requests.get(\"https://services.runescape.com/m=itemdb_rs/api/graph/11716.json\")\n",
    "\n",
    "#print(response.status_code)"
   ]
  },
  {
   "cell_type": "code",
   "execution_count": 102,
   "id": "88cdb428-8cba-4aaa-9d50-0f52eeef7897",
   "metadata": {},
   "outputs": [
    {
     "name": "stdout",
     "output_type": "stream",
     "text": [
      "<class 'dict'>\n"
     ]
    }
   ],
   "source": [
    "grab = response.json()\n",
    "\n",
    "print(type(grab))"
   ]
  },
  {
   "cell_type": "code",
   "execution_count": 140,
   "id": "86411f33-c8fc-464c-ac9a-4394d5592e21",
   "metadata": {},
   "outputs": [
    {
     "name": "stdout",
     "output_type": "stream",
     "text": [
      " \"1711584000000\": 1565026\n"
     ]
    }
   ],
   "source": [
    "x = grab.get('daily')\n",
    "#print(x)\n",
    "#print(type(x))\n",
    "\n",
    "test = json.dumps(x)\n",
    "\n",
    "w = test.split(\",\")\n",
    "#z = w.split(\":\")\n",
    "\n",
    "\n",
    "#print(type(test))\n",
    "\n",
    "\n",
    "#print(test_split1)\n",
    "print(w[1])\n",
    "#print(test)"
   ]
  },
  {
   "cell_type": "code",
   "execution_count": null,
   "id": "4d08cedd-addc-4ed8-b6fd-a022fa8629bf",
   "metadata": {},
   "outputs": [],
   "source": []
  }
 ],
 "metadata": {
  "kernelspec": {
   "display_name": "Python 3 (ipykernel)",
   "language": "python",
   "name": "python3"
  },
  "language_info": {
   "codemirror_mode": {
    "name": "ipython",
    "version": 3
   },
   "file_extension": ".py",
   "mimetype": "text/x-python",
   "name": "python",
   "nbconvert_exporter": "python",
   "pygments_lexer": "ipython3",
   "version": "3.11.7"
  }
 },
 "nbformat": 4,
 "nbformat_minor": 5
}
